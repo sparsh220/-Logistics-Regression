{
  "nbformat": 4,
  "nbformat_minor": 0,
  "metadata": {
    "colab": {
      "provenance": []
    },
    "kernelspec": {
      "name": "python3",
      "display_name": "Python 3"
    },
    "language_info": {
      "name": "python"
    }
  },
  "cells": [
    {
      "cell_type": "markdown",
      "source": [
        "## Question 1: What is Logistic Regression, and how does it differ from Linear Regression?\n",
        "\n",
        "\n",
        "Answer: Logistic Regression is a supervised learning algorithm used for classification problems, like predicting whether an email is spam or not spam.\n",
        "It predicts categorical outcomes (like Yes/No, 0/1) using the sigmoid function, which gives outputs between 0 and 1 — interpreted as probabilities.\n",
        "\n",
        "Logistic Regression is different from Linear Regression as :\n",
        "\n",
        "* Linear Regression is used for predicting continuous value while Logistic Regression is used for predicting categorical values.\n",
        "\n",
        "* In Linear Regression straight lines used while in Logistic Regession sigmoid function used."
      ],
      "metadata": {
        "id": "uDK4r9ei8yB1"
      }
    },
    {
      "cell_type": "markdown",
      "source": [
        "## Question 2: Explain the role of the Sigmoid function in Logistic Regression.\n",
        "\n",
        "Answer: The Sigmoid function plays a very important role in Logistic Regression. It helps to convert the output of a linear equation (which can be any number, positive or negative) into a value between 0 and 1.\n",
        "\n",
        "This value represents the probability of a data point belonging to a particular class."
      ],
      "metadata": {
        "id": "Fka7D-dc84CB"
      }
    },
    {
      "cell_type": "markdown",
      "source": [
        "## Question 3: What is Regularization in Logistic Regression and why is it needed?\n",
        "\n",
        "Answer:  Regularization in Logistic Regression is a method used to reduce overfitting — when a model learns the training data too well but performs poorly on new data.\n",
        "\n",
        "It works by adding a penalty term to the cost (loss) function, which keeps the model’s weights small and prevents it from becoming too complex.\n",
        "\n",
        "It is needed to helps the model stay simple, stable, and generalize better to unseen data by controlling large weight values."
      ],
      "metadata": {
        "id": "G1Jt9Lpj8761"
      }
    },
    {
      "cell_type": "markdown",
      "source": [
        "## Question 4: What are some common evaluation metrics for classification models, and why are they important?\n",
        "\n",
        "\n",
        "Answer: In classification models like Logistic Regression, evaluation metrics help us understand how well the model is performing. Some common metrics are:\n",
        "\n",
        "* Accuracy:\n",
        "\n",
        "  * Tells how many predictions were correct.\n",
        "\n",
        "\n",
        "  * Useful when classes are balanced (equal number of 0s and 1s).\n",
        "\n",
        "* Precision:\n",
        "\n",
        "   * Shows how many predicted positives were actually positive.\n",
        "\n",
        "    * Important when false positives are costly (like predicting a person has a disease when they don’t).\n",
        "\n",
        "*  Recall :\n",
        "\n",
        "   * Shows how many actual positives were correctly identified.\n",
        "\n",
        "    * Important when missing positives is risky (like missing a cancer case).\n",
        "\n",
        "*  F1 Score:\n",
        "\n",
        "    * The harmonic mean of Precision and Recall.\n",
        "\n",
        "     * Useful when classes are imbalanced.\n",
        "\n",
        "* ROC-AUC Score:\n",
        "\n",
        "   * Measures how well the model separates classes (0 and 1).\n",
        "\n",
        "   * Higher AUC means better classification."
      ],
      "metadata": {
        "id": "-Qor9vBR9FMN"
      }
    },
    {
      "cell_type": "code",
      "source": [
        "# Question 5: Write a Python program that loads a CSV file into a Pandas DataFrame,splits into train/test sets,\n",
        "# trains a Logistic Regression model, and prints its accuracy.(Use Dataset from sklearn package)\n",
        "# (Include your Python code and output in the code box below.)\n",
        "\n",
        "# Import necessary libraries\n",
        "import pandas as pd\n",
        "from sklearn.model_selection import train_test_split\n",
        "from sklearn.linear_model import LogisticRegression\n",
        "from sklearn.datasets import load_iris\n",
        "from sklearn.metrics import accuracy_score\n",
        "\n",
        "# Load dataset (Iris dataset from sklearn)\n",
        "iris = load_iris()\n",
        "X = iris.data\n",
        "y = iris.target\n",
        "\n",
        "# Convert to DataFrame (optional)\n",
        "df = pd.DataFrame(X, columns=iris.feature_names)\n",
        "df['target'] = y\n",
        "\n",
        "# Split data into training and testing sets (80% train, 20% test)\n",
        "X_train, X_test, y_train, y_test = train_test_split(X, y, test_size=0.2, random_state=42)\n",
        "\n",
        "# Create and train Logistic Regression model\n",
        "model = LogisticRegression(max_iter=200)\n",
        "model.fit(X_train, y_train)\n",
        "\n",
        "# Predict on test data\n",
        "y_pred = model.predict(X_test)\n",
        "\n",
        "# Calculate and print accuracy\n",
        "accuracy = accuracy_score(y_test, y_pred)\n",
        "print(\"Model Accuracy:\", accuracy)\n",
        "\n"
      ],
      "metadata": {
        "id": "otiyitx69Psi",
        "colab": {
          "base_uri": "https://localhost:8080/"
        },
        "outputId": "5d14e78a-8de6-4a2a-dd3a-848a732f939a"
      },
      "execution_count": 1,
      "outputs": [
        {
          "output_type": "stream",
          "name": "stdout",
          "text": [
            "Model Accuracy: 1.0\n"
          ]
        }
      ]
    },
    {
      "cell_type": "code",
      "source": [
        "# Question 6: Write a Python program to train a Logistic Regression model using L2 regularization (Ridge)\n",
        "# and print the model coefficients and accuracy. (Use Dataset from sklearn package)\n",
        "# (Include your Python code and output in the code box below.)\n",
        "\n",
        "# Import required libraries\n",
        "import pandas as pd\n",
        "from sklearn.model_selection import train_test_split\n",
        "from sklearn.linear_model import LogisticRegression\n",
        "from sklearn.datasets import load_iris\n",
        "from sklearn.metrics import accuracy_score\n",
        "\n",
        "# Load the Iris dataset\n",
        "iris = load_iris()\n",
        "X = iris.data\n",
        "y = iris.target\n",
        "\n",
        "# Split data into training and testing sets (80% train, 20% test)\n",
        "X_train, X_test, y_train, y_test = train_test_split(X, y, test_size=0.2, random_state=42)\n",
        "\n",
        "# Create Logistic Regression model with L2 regularization (default)\n",
        "model = LogisticRegression(penalty='l2', max_iter=200)\n",
        "model.fit(X_train, y_train)\n",
        "\n",
        "# Predict on test data\n",
        "y_pred = model.predict(X_test)\n",
        "\n",
        "# Print model coefficients and accuracy\n",
        "print(\"Model Coefficients:\\n\", model.coef_)\n",
        "print(\"\\nModel Accuracy:\", accuracy_score(y_test, y_pred))\n",
        "\n"
      ],
      "metadata": {
        "id": "McQb_7l49ZLx",
        "colab": {
          "base_uri": "https://localhost:8080/"
        },
        "outputId": "a3d8dc77-fd56-4400-ac74-3652ae77c914"
      },
      "execution_count": 4,
      "outputs": [
        {
          "output_type": "stream",
          "name": "stdout",
          "text": [
            "Model Coefficients:\n",
            " [[-0.39345607  0.96251768 -2.37512436 -0.99874594]\n",
            " [ 0.50843279 -0.25482714 -0.21301129 -0.77574766]\n",
            " [-0.11497673 -0.70769055  2.58813565  1.7744936 ]]\n",
            "\n",
            "Model Accuracy: 1.0\n"
          ]
        }
      ]
    },
    {
      "cell_type": "code",
      "source": [
        "# Question 7: Write a Python program to train a Logistic Regression model for multiclass classification\n",
        "# using multi_class='ovr' and print the classification report.(Use Dataset from sklearn package)\n",
        "# (Include your Python code and output in the code box below.)\n",
        "\n",
        "\n",
        "# Import required libraries\n",
        "import pandas as pd\n",
        "from sklearn.model_selection import train_test_split\n",
        "from sklearn.linear_model import LogisticRegression\n",
        "from sklearn.datasets import load_iris\n",
        "from sklearn.metrics import classification_report\n",
        "\n",
        "# Load the Iris dataset\n",
        "iris = load_iris()\n",
        "X = iris.data\n",
        "y = iris.target\n",
        "\n",
        "# Split the data into training and testing sets\n",
        "X_train, X_test, y_train, y_test = train_test_split(X, y, test_size=0.2, random_state=42)\n",
        "\n",
        "# Create Logistic Regression model for multiclass classification (One-vs-Rest)\n",
        "model = LogisticRegression(multi_class='ovr', max_iter=200)\n",
        "model.fit(X_train, y_train)\n",
        "\n",
        "# Predict on test data\n",
        "y_pred = model.predict(X_test)\n",
        "\n",
        "# Print the classification report\n",
        "print(\"Classification Report:\\n\")\n",
        "print(classification_report(y_test, y_pred))\n",
        "\n"
      ],
      "metadata": {
        "id": "rZdywpeI9itb",
        "colab": {
          "base_uri": "https://localhost:8080/"
        },
        "outputId": "16152894-256d-43eb-e419-6d336b35b66c"
      },
      "execution_count": 5,
      "outputs": [
        {
          "output_type": "stream",
          "name": "stdout",
          "text": [
            "Classification Report:\n",
            "\n",
            "              precision    recall  f1-score   support\n",
            "\n",
            "           0       1.00      1.00      1.00        10\n",
            "           1       1.00      0.89      0.94         9\n",
            "           2       0.92      1.00      0.96        11\n",
            "\n",
            "    accuracy                           0.97        30\n",
            "   macro avg       0.97      0.96      0.97        30\n",
            "weighted avg       0.97      0.97      0.97        30\n",
            "\n"
          ]
        },
        {
          "output_type": "stream",
          "name": "stderr",
          "text": [
            "/usr/local/lib/python3.12/dist-packages/sklearn/linear_model/_logistic.py:1256: FutureWarning: 'multi_class' was deprecated in version 1.5 and will be removed in 1.7. Use OneVsRestClassifier(LogisticRegression(..)) instead. Leave it to its default value to avoid this warning.\n",
            "  warnings.warn(\n"
          ]
        }
      ]
    },
    {
      "cell_type": "code",
      "source": [
        "# Question 8: Write a Python program to apply GridSearchCV to tune C and penalty hyperparameters for Logistic Regression\n",
        "# and print the best parameters and validation accuracy. (Use Dataset from sklearn package)\n",
        "# (Include your Python code and output in the code box below.)\n",
        "\n",
        "\n",
        "\n",
        "# Import necessary libraries\n",
        "import pandas as pd\n",
        "from sklearn.model_selection import train_test_split, GridSearchCV\n",
        "from sklearn.linear_model import LogisticRegression\n",
        "from sklearn.datasets import load_iris\n",
        "from sklearn.metrics import accuracy_score\n",
        "\n",
        "# Load the Iris dataset\n",
        "iris = load_iris()\n",
        "X = iris.data\n",
        "y = iris.target\n",
        "\n",
        "# Split data into training and testing sets\n",
        "X_train, X_test, y_train, y_test = train_test_split(X, y, test_size=0.2,\n",
        "random_state=42)\n",
        "\n",
        "# Create Logistic Regression model\n",
        "model = LogisticRegression(max_iter=200)\n",
        "\n",
        "# Define the parameter grid for tuning\n",
        "param_grid = {\n",
        "    'C': [0.01, 0.1, 1, 10, 100],\n",
        "    'penalty': ['l1', 'l2'],\n",
        "    'solver': ['liblinear']\n",
        "}\n",
        "\n",
        "# Create GridSearchCV\n",
        "grid = GridSearchCV(model, param_grid, cv=5)\n",
        "grid.fit(X_train, y_train)\n",
        "\n",
        "# Predict on test data using best model\n",
        "y_pred = grid.best_estimator_.predict(X_test)\n",
        "\n",
        "# Print best parameters and accuracy\n",
        "print(\"Best Parameters:\", grid.best_params_)\n",
        "print(\"Validation Accuracy:\", accuracy_score(y_test, y_pred))\n",
        "\n"
      ],
      "metadata": {
        "id": "BjFCbdCy9rwD",
        "colab": {
          "base_uri": "https://localhost:8080/"
        },
        "outputId": "61295da9-6aab-4064-f55c-26103cc2cc2a"
      },
      "execution_count": 6,
      "outputs": [
        {
          "output_type": "stream",
          "name": "stdout",
          "text": [
            "Best Parameters: {'C': 10, 'penalty': 'l1', 'solver': 'liblinear'}\n",
            "Validation Accuracy: 1.0\n"
          ]
        }
      ]
    },
    {
      "cell_type": "code",
      "source": [
        "# Question 9: Write a Python program to standardize the features before training Logistic Regression and\n",
        "# compare the model's accuracy with and without scaling. (Use Dataset from sklearn package)\n",
        "# (Include your Python code and output in the code box below.)\n",
        "\n",
        "\n",
        "# Import required libraries\n",
        "import pandas as pd\n",
        "from sklearn.model_selection import train_test_split\n",
        "from sklearn.linear_model import LogisticRegression\n",
        "from sklearn.datasets import load_iris\n",
        "from sklearn.preprocessing import StandardScaler\n",
        "from sklearn.metrics import accuracy_score\n",
        "\n",
        "# Load the Iris dataset\n",
        "iris = load_iris()\n",
        "X = iris.data\n",
        "y = iris.target\n",
        "\n",
        "# Split data into training and testing sets\n",
        "X_train, X_test, y_train, y_test = train_test_split(X, y, test_size=0.2,\n",
        "random_state=42)\n",
        "\n",
        "# --- Model without Scaling ---\n",
        "model1 = LogisticRegression(max_iter=200)\n",
        "model1.fit(X_train, y_train)\n",
        "y_pred1 = model1.predict(X_test)\n",
        "accuracy_without_scaling = accuracy_score(y_test, y_pred1)\n",
        "\n",
        "# --- Model with Standardization ---\n",
        "scaler = StandardScaler()\n",
        "X_train_scaled = scaler.fit_transform(X_train)\n",
        "X_test_scaled = scaler.transform(X_test)\n",
        "\n",
        "model2 = LogisticRegression(max_iter=200)\n",
        "model2.fit(X_train_scaled, y_train)\n",
        "y_pred2 = model2.predict(X_test_scaled)\n",
        "accuracy_with_scaling = accuracy_score(y_test, y_pred2)\n",
        "\n",
        "# Print both accuracies\n",
        "print(\"Accuracy without Scaling:\", accuracy_without_scaling)\n",
        "print(\"Accuracy with Scaling:\", accuracy_with_scaling)\n"
      ],
      "metadata": {
        "id": "eNZLVGPN93ns",
        "colab": {
          "base_uri": "https://localhost:8080/"
        },
        "outputId": "e90b0e0c-9b1d-4b9c-8c53-bd4a4c2846dd"
      },
      "execution_count": 7,
      "outputs": [
        {
          "output_type": "stream",
          "name": "stdout",
          "text": [
            "Accuracy without Scaling: 1.0\n",
            "Accuracy with Scaling: 1.0\n"
          ]
        }
      ]
    },
    {
      "cell_type": "markdown",
      "source": [
        "## Question 10: Imagine you are working at an e-commerce company that wants to predict which customers will respond to a marketing campaign. Given an imbalanced dataset (only 5% of customers respond), describe the approach you’d take to build a Logistic Regression model — including data handling, feature scaling, balancing classes, hyperparameter tuning, and evaluating the model for this real-world business use case.\n",
        "\n",
        "\n",
        "Answer: 1. Understand the Data\n",
        "\n",
        "* Identify features (e.g., age, purchase history, browsing time) and the target (responded: 0/1).\n",
        "\n",
        "* Check for missing values and handle them (impute or remove).\n",
        "\n",
        "* Explore data distribution, especially the imbalance: only 5% respond.\n",
        "\n",
        "2. Feature Scaling\n",
        "\n",
        "* Use StandardScaler or MinMaxScaler to scale numeric features.\n",
        "\n",
        "* Scaling helps Logistic Regression perform better because it depends on weights of features.\n",
        "\n",
        "3. Handle Class Imbalance\n",
        "\n",
        "* Since only 5% respond, the dataset is heavily imbalanced.\n",
        "\n",
        "* Techniques to handle this:\n",
        "\n",
        "1. Resampling:\n",
        "\n",
        "  * Oversample minority class (e.g., SMOTE) or undersample majority class.\n",
        "\n",
        "2.  Class weights:\n",
        "\n",
        "   * In Logistic Regression, set class_weight='balanced' to give more importance to minority class.\n",
        "\n",
        "4. Split Data\n",
        "\n",
        "* Split into training and test sets (e.g., 80/20).\n",
        "\n",
        "* Consider stratified split to preserve class distribution.\n",
        "\n",
        "5. Train Logistic Regression\n",
        "\n",
        "* Use L2 regularization (default) to avoid overfitting.\n",
        "\n",
        "* Include class weights to handle imbalance.\n",
        "\n",
        "* Fit the model on scaled training data.\n",
        "\n",
        "6. Hyperparameter Tuning\n",
        "\n",
        "* Use GridSearchCV or RandomizedSearchCV to tune:\n",
        "\n",
        "  * C (regularization strength)\n",
        "\n",
        "   * penalty (L1 or L2)\n",
        "\n",
        "   * solver\n",
        "\n",
        "* Use cross-validation to avoid overfitting and select the best model.\n",
        "\n",
        "7. Model Evaluation\n",
        "\n",
        "* Accuracy is not enough for imbalanced data. Use metrics like:\n",
        "\n",
        "* Precision: How many predicted responders actually responded.\n",
        "\n",
        "* Recall (Sensitivity): How many actual responders were correctly predicted.\n",
        "\n",
        "* F1-score: Balance between precision and recall.\n",
        "\n",
        "* ROC-AUC: Overall ability to distinguish responders vs non-responders.\n",
        "\n",
        "* Use confusion matrix to visualize correct and incorrect predictions.\n",
        "\n",
        "8. Real-world Considerations\n",
        "\n",
        "* High recall might be important to capture as many potential customers as possible.\n",
        "\n",
        "* High precision reduces wasted marketing cost by avoiding false positives.\n",
        "\n",
        "* Monitor the model on new campaigns and retrain periodically with updated data.\n"
      ],
      "metadata": {
        "id": "ado8qAUY-FIc"
      }
    }
  ]
}